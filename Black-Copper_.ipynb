{
 "cells": [
  {
   "cell_type": "code",
   "execution_count": 125,
   "id": "61a70ad8",
   "metadata": {},
   "outputs": [],
   "source": [
    "\n",
    "import csv\n",
    "import bs4\n",
    "import nltk\n",
    "import string\n",
    "import requests\n",
    "import numpy as np\n",
    "import pandas as pd\n",
    "from textblob import TextBlob\n",
    "from bs4 import BeautifulSoup\n",
    "from nltk.corpus import stopwords \n",
    "from nltk.tokenize import word_tokenize\n",
    "from nltk.tokenize import sent_tokenize\n",
    "from nltk.sentiment.vader import SentimentIntensityAnalyzer"
   ]
  },
  {
   "cell_type": "code",
   "execution_count": 126,
   "id": "51ca4e20",
   "metadata": {},
   "outputs": [
    {
     "data": {
      "text/html": [
       "<div>\n",
       "<style scoped>\n",
       "    .dataframe tbody tr th:only-of-type {\n",
       "        vertical-align: middle;\n",
       "    }\n",
       "\n",
       "    .dataframe tbody tr th {\n",
       "        vertical-align: top;\n",
       "    }\n",
       "\n",
       "    .dataframe thead th {\n",
       "        text-align: right;\n",
       "    }\n",
       "</style>\n",
       "<table border=\"1\" class=\"dataframe\">\n",
       "  <thead>\n",
       "    <tr style=\"text-align: right;\">\n",
       "      <th></th>\n",
       "      <th>URL_ID</th>\n",
       "      <th>URL</th>\n",
       "    </tr>\n",
       "  </thead>\n",
       "  <tbody>\n",
       "    <tr>\n",
       "      <th>0</th>\n",
       "      <td>37.0</td>\n",
       "      <td>https://insights.blackcoffer.com/ai-in-healthc...</td>\n",
       "    </tr>\n",
       "    <tr>\n",
       "      <th>1</th>\n",
       "      <td>38.0</td>\n",
       "      <td>https://insights.blackcoffer.com/what-if-the-c...</td>\n",
       "    </tr>\n",
       "    <tr>\n",
       "      <th>2</th>\n",
       "      <td>39.0</td>\n",
       "      <td>https://insights.blackcoffer.com/what-jobs-wil...</td>\n",
       "    </tr>\n",
       "    <tr>\n",
       "      <th>3</th>\n",
       "      <td>40.0</td>\n",
       "      <td>https://insights.blackcoffer.com/will-machine-...</td>\n",
       "    </tr>\n",
       "    <tr>\n",
       "      <th>4</th>\n",
       "      <td>41.0</td>\n",
       "      <td>https://insights.blackcoffer.com/will-ai-repla...</td>\n",
       "    </tr>\n",
       "    <tr>\n",
       "      <th>...</th>\n",
       "      <td>...</td>\n",
       "      <td>...</td>\n",
       "    </tr>\n",
       "    <tr>\n",
       "      <th>109</th>\n",
       "      <td>146.0</td>\n",
       "      <td>https://insights.blackcoffer.com/blockchain-fo...</td>\n",
       "    </tr>\n",
       "    <tr>\n",
       "      <th>110</th>\n",
       "      <td>147.0</td>\n",
       "      <td>https://insights.blackcoffer.com/the-future-of...</td>\n",
       "    </tr>\n",
       "    <tr>\n",
       "      <th>111</th>\n",
       "      <td>148.0</td>\n",
       "      <td>https://insights.blackcoffer.com/big-data-anal...</td>\n",
       "    </tr>\n",
       "    <tr>\n",
       "      <th>112</th>\n",
       "      <td>149.0</td>\n",
       "      <td>https://insights.blackcoffer.com/business-anal...</td>\n",
       "    </tr>\n",
       "    <tr>\n",
       "      <th>113</th>\n",
       "      <td>150.0</td>\n",
       "      <td>https://insights.blackcoffer.com/challenges-an...</td>\n",
       "    </tr>\n",
       "  </tbody>\n",
       "</table>\n",
       "<p>114 rows × 2 columns</p>\n",
       "</div>"
      ],
      "text/plain": [
       "     URL_ID                                                URL\n",
       "0      37.0  https://insights.blackcoffer.com/ai-in-healthc...\n",
       "1      38.0  https://insights.blackcoffer.com/what-if-the-c...\n",
       "2      39.0  https://insights.blackcoffer.com/what-jobs-wil...\n",
       "3      40.0  https://insights.blackcoffer.com/will-machine-...\n",
       "4      41.0  https://insights.blackcoffer.com/will-ai-repla...\n",
       "..      ...                                                ...\n",
       "109   146.0  https://insights.blackcoffer.com/blockchain-fo...\n",
       "110   147.0  https://insights.blackcoffer.com/the-future-of...\n",
       "111   148.0  https://insights.blackcoffer.com/big-data-anal...\n",
       "112   149.0  https://insights.blackcoffer.com/business-anal...\n",
       "113   150.0  https://insights.blackcoffer.com/challenges-an...\n",
       "\n",
       "[114 rows x 2 columns]"
      ]
     },
     "execution_count": 126,
     "metadata": {},
     "output_type": "execute_result"
    }
   ],
   "source": [
    "df = pd.read_csv('Input.csv')\n",
    "df = df.dropna()\n",
    "df"
   ]
  },
  {
   "cell_type": "code",
   "execution_count": 127,
   "id": "3450792a",
   "metadata": {},
   "outputs": [],
   "source": [
    "\n",
    "url_list = [url for url in df['URL']]\n",
    "\n",
    "# The URL present in url_list are accessed by chrome and complete HTML code for said page is stored in text form and in a list \n",
    "# called text and according to the serial in which url was saved in url_list.\n",
    "\n",
    "text = []\n",
    "for url in url_list:\n",
    "    text.append(requests.get(url,headers={\"User-Agent\": \"Mozilla/5.0 (Windows NT 10.0; Win64; x64) AppleWebKit/537.36 (KHTML, like Gecko) Chrome/107.0.0.0 Safari/537.36\"}))"
   ]
  },
  {
   "cell_type": "markdown",
   "id": "f48c27fc",
   "metadata": {},
   "source": [
    "#The unrequired part of HTML code present in text is removed using .content,'html.parser\n",
    "#The required paragraph is copied to list called articles by finding and specifying the class in HTML under which \n",
    "#the paragraph is present."
   ]
  },
  {
   "cell_type": "code",
   "execution_count": 128,
   "id": "afa94b43",
   "metadata": {},
   "outputs": [],
   "source": [
    "\n",
    "for i in range(len(text)):\n",
    "    text[i] = bs4.BeautifulSoup(text[i].content,'html.parser')"
   ]
  },
  {
   "cell_type": "code",
   "execution_count": 129,
   "id": "560b1ea9",
   "metadata": {},
   "outputs": [],
   "source": [
    "\n",
    "articles = []\n",
    "for text in text:\n",
    "    articles.append(text.find('div', attrs = {'class':'td-post-content'}))"
   ]
  },
  {
   "cell_type": "code",
   "execution_count": 130,
   "id": "b0a29936",
   "metadata": {},
   "outputs": [
    {
     "name": "stdout",
     "output_type": "stream",
     "text": [
      "7\n",
      "20\n",
      "107\n"
     ]
    }
   ],
   "source": [
    "# articles list is checked for Null value and their position.\n",
    "\n",
    "for i in range(len(articles)):\n",
    "    if(articles[i] == None):\n",
    "        print(i)"
   ]
  },
  {
   "cell_type": "code",
   "execution_count": 131,
   "id": "ff14e123",
   "metadata": {},
   "outputs": [],
   "source": [
    "# The 3 indexes at which null value were found are dropped from database to prevent error in further code.\n",
    "\n",
    "df = df.drop([df.index[7], df.index[20],df.index[107]])"
   ]
  },
  {
   "cell_type": "code",
   "execution_count": 132,
   "id": "adb379af",
   "metadata": {},
   "outputs": [],
   "source": [
    "# The null values are dropped from articles list and copied to a new list called new_article.\n",
    "\n",
    "new_article = []\n",
    "for val in articles:\n",
    "    if val != None :\n",
    "        new_article.append(val)"
   ]
  },
  {
   "cell_type": "code",
   "execution_count": 133,
   "id": "6ed2ea1f",
   "metadata": {},
   "outputs": [],
   "source": [
    "# HTML code is completely removed by using \".text\" and \\n present after removing the code is replaced by space(' '). \n",
    "# The remaining data in new_article is the data required for sentiment analysis.\n",
    "\n",
    "for i in range(len(new_article)):\n",
    "    new_article[i]= new_article[i].text.replace('\\n',' ')"
   ]
  },
  {
   "cell_type": "code",
   "execution_count": 135,
   "id": "7d8a3522",
   "metadata": {},
   "outputs": [
    {
     "data": {
      "text/plain": [
       "' Human minds, a fascination in itself carrying the potential of tinkering nature with the pixie dust intelligence, creating and solving the mysteries and wonders with anything but admiration. However, no matter how captivating a human mind can be, it could sometimes be appalled. It could be the hunger or maybe the desire to want more, to go beyond and unravel the limitations, or maybe something like pure greed. Humans have never stopped and always keep evolving when it comes to intelligence and this is what makes them the supreme. Intelligence calls out for supremacy and so, what if there was to evolve something that opposed a challenge to the very human minds, to their capabilities while making them question their own importance among themselves? Artificial Intelligence came as a revolution, havoc when it first came to the light. The concept of making machines does work on their own, like granting machines –The Intelligence. The idea of making machines work like humans came back in the 19s. Back then people didn’t believe in such a thing as making a non-living thing work, think, and carry tasks on its own, not to mention, to actually surpass humans themselves in those skills. The facts are it did. By 1997. The greatest chess player, Garry Kasparov was defeated in a chess game by a machine and this is where exactly, a top skilled human lost to a mere machine created by another who by himself could’ve never defeated him. It was a rule of power, of betterment, of skills, and the granted supremacy. Were AI and Machines just tools? Equipment?\\xa0 Something that helped an unskilled person with his mind and intelligence creates something that could do the skilled work for him with perfection and precision? Well initially it was, however, as time passed as humans got drawn to the puzzle of AI, a lot changed. Human research went deeper and deeper and as a result, the machines evolved with it. At present, AI & Machines is a growing field. As it develops and improves, it has become a part of the industrial revolution. In industries, most of the laborious work that was once taken care of by humans was now replaced by machines. Naturally, with the evolution in machines, its precision, mass productivity, quality control, time efficiencies, and all the other factors made it a better choice. A choice over humans. This led to fear, a fear of a not-so-distant future, a future where maybe machines will be so evolved that they’ll take over the need of a human employee leading to unemployment. With the population increase around the world, it became the new tech threat for the labor market. Then again… how true is it? Does AI really oppose a threat? Will adapting to technology make millions of people lose their jobs? Will it lead to mass unemployment? Will the machines really surpass humans? Will, the creation take over the creator? No matter how fearful the future with AI may seem, in reality, it is not that scary. Truth is AI is the present reality, it is the key that holds the power to unlock a whole next level of human evolution. Technology is growing. There was a time where technology was just an idea, but today that idea has been implemented, it’s working and is carried out. Nobody could stop the advancement and growth of Artificial Intelligence, it’s a wave that is already flowing and we as the present generation and the generations to come to have to learn, to learn to swim in this flow and avoid drowning. Many jobs will be replaced by machines, as AI evolves it’ll keep challenging human minds and their skills. With the present COVID 19 situation, contactless cashiers to robots delivering packages have already taken over the usual routine tasks. The jobs of Secretaries, Schedulers, and book-keeper are at risk too. Manufacturing units, agriculture, food services, retail, transportation & logistic, and hospitality are all a part of the AI-affected automation. At an estimation, it is said that around 20 million jobs, especially including manufacturing will be lost to robots. As AI, robotics, 3D printing, and genetics make their way in, even the architects, medical docs, and music composers feel threatened by technology. Making us question that will AI even edge us out of our brain jobs too? Now that can be terrifying. However, as much as machines will be replacing few jobs, they’ll also be creating new jobs.\\xa0 With the economic growth, innovation, and investment around 133 million jobs are said to be generated. These newly enhanced jobs are to create benefits and amplify one’s creativity, strategy, and entrepreneurial skills. So what is the catch? Well, it’s the skills. Even though AI is creating 3 times more jobs than it is destroying, it’s the skills that count. AI surged in new job opportunities, opportunities like Senior Data Scientist, Mobile Application Developer, and SEO specialist. These jobs were once never heard of but now with AI it’s born, however, to do these jobs or for its qualification, one needs high-level skills and to acquire those skills can be an expensive and time-consuming task. The future generation might be able to cope up with it but the real struggle is to be faced by the present two generations. It’s the vulnerability between the skill gap and unemployment and the youths are the ones to be crushed the most. Therefore, as the advancement of AI becomes inevitable there remains no choice but to adapt, learn, equip ourselves and grow with it. The companies have to work together to build an AI-ready workplace. They should collaborate with the government, educators, and non-profit organizations and work together to bring out policies that could help understand the technologies’ impacts faster while also providing the employees some security. The economic and business planning should be made considerable for minimizing the impact on local jobs and properly maximizing the opportunities. The employees should be provided with proper tools to carry along with the new opportunities while acquiring AI-based skills for their day-to-day work. New skills should be identified and implemented for the upskilling and continual learning initiatives. Employees will have to maximize their Robotic Quotient and learn core skills. They’ll have to adapt to new working models and understand their roles in the coming future.\\xa0 Howsoever, it’s not like AI will totally take over control, even though AI proves to be a better choice, it still has its limitations at present. First, it’s expensive, secondly, manufacturing machines in bulk is not good for the environment. Machines are also very high maintenance, therefore human labor will often come cheaper and so will be considered over machines. Underdeveloped countries will find it hard to equip their people with the upskilling and reskilling required for AI workplace and so for AI to play a role in those countries, might take years. AI can also be risky and unethical, as it’s hard to figure out who to be held responsible for in cases where an AI went wrong. No matter, how advanced AI gets, there are some skills where humans will always have an upper hand i.e., soft skills. Skills like teamwork, communication, creativity, and critical thinking are something that AI hasn’t been able to beat us up to yet and so the value of creativity, leadership, and emotional intelligence has increased. Although, with machines coming in between humans causing the lack of human-to-human interaction, the humans seem to fade away a little. With this era, comes the need for good leaders. Leaders who are capable of handling both machines and humans together, the ones who are organized enough to manage the skilled and the unskilled employees while providing the unskilled trainees with proper training. Leaders who hold profound soft skills and encourage teamwork while working along with machines. The ones who are patient, calm, and optimized. \\xa0 In conclusion, yes AI and machines are going to be very challenging but there’s nothing humans haven’t overcome. Adaptation and up-gradation are going to be the primary factor for survival. As we witness the onset of the 4th industrial revolution, let’s buckle up our seats and race along the highway with the essential fuels (skills) so as to not let ourselves eliminated. After all, this is an unending race with infinity as the end, all we could do is try not to run out of fuel. Try not to be outdated.\\xa0 Blackcoffer Insights 29: Glady, Karunya Institute of Technology and Sciences.  '"
      ]
     },
     "execution_count": 135,
     "metadata": {},
     "output_type": "execute_result"
    }
   ],
   "source": [
    "new_article[1]"
   ]
  },
  {
   "cell_type": "code",
   "execution_count": 136,
   "id": "81e59082",
   "metadata": {},
   "outputs": [],
   "source": [
    "# A new list called stop_words is formed and the stop words provided in form of multiple text files are added to stop_words \n",
    "# list.\n",
    "\n",
    "stop_words = []\n",
    "\n",
    "stopWordsFile1 = 'StopWords_Auditor.txt'\n",
    "for stop_word in open(stopWordsFile1, 'r').readlines():\n",
    "    stop_words.append(stop_word.rstrip())\n",
    "\n",
    "stopWordsFile2 = 'StopWords_Currencies.txt'\n",
    "for stop_word in open(stopWordsFile2, 'r').readlines():\n",
    "    stop_words.append(stop_word.rstrip())\n",
    "\n",
    "stopWordsFile3 = 'StopWords_Generic.txt'\n",
    "for stop_word in open(stopWordsFile3, 'r').readlines():\n",
    "    stop_words.append(stop_word.rstrip())\n",
    "\n",
    "stopWordsFile4 = 'StopWords_GenericLong.txt'\n",
    "for stop_word in open(stopWordsFile4, 'r').readlines():\n",
    "    stop_words.append(stop_word.rstrip())\n",
    "\n",
    "stopWordsFile5= 'StopWords_DatesandNumber.txt'\n",
    "for stop_word in open(stopWordsFile5, 'r').readlines():\n",
    "    stop_words.append(stop_word.rstrip())\n",
    "\n",
    "stopWordsFile6= 'StopWords_Geographic.txt'\n",
    "for stop_word in open(stopWordsFile6, 'r').readlines():\n",
    "    stop_words.append(stop_word.rstrip())\n",
    "    \n",
    "stopWordsFile7= 'StopWords_Names.txt'\n",
    "for stop_word in open(stopWordsFile7, 'r').readlines():\n",
    "    stop_words.append(stop_word.rstrip())"
   ]
  },
  {
   "cell_type": "code",
   "execution_count": 137,
   "id": "9c0da0bd",
   "metadata": {},
   "outputs": [],
   "source": [
    "# It saves the different number of sentences present in differet paragraphs present in new_article list. \n",
    "# The number of sentences is further saved in a new list called sentences.  \n",
    "\n",
    "sentences = []\n",
    "for article in new_article:\n",
    "    sentences.append(len(sent_tokenize(article)))"
   ]
  },
  {
   "cell_type": "code",
   "execution_count": 140,
   "id": "7d960a74",
   "metadata": {},
   "outputs": [
    {
     "data": {
      "text/plain": [
       "80"
      ]
     },
     "execution_count": 140,
     "metadata": {},
     "output_type": "execute_result"
    }
   ],
   "source": [
    "sentences[1]"
   ]
  },
  {
   "cell_type": "code",
   "execution_count": 141,
   "id": "afd54ebe",
   "metadata": {},
   "outputs": [],
   "source": [
    "cleaned_articles = [' ']*len(new_article)"
   ]
  },
  {
   "cell_type": "code",
   "execution_count": 146,
   "id": "566787fa",
   "metadata": {},
   "outputs": [],
   "source": [
    "# Markings such as '?', '.',',' and '!' are replaced with space(' '). \n",
    "\n",
    "for i in range(len(new_article)):\n",
    "    for w in stop_words:\n",
    "        cleaned_articles[i]= new_article[i].replace('?',' ').replace('.',' ').replace(',',' ').replace('!',' ')"
   ]
  },
  {
   "cell_type": "code",
   "execution_count": 147,
   "id": "6021e041",
   "metadata": {},
   "outputs": [
    {
     "data": {
      "text/plain": [
       "' Human minds  a fascination in itself carrying the potential of tinkering nature with the pixie dust intelligence  creating and solving the mysteries and wonders with anything but admiration  However  no matter how captivating a human mind can be  it could sometimes be appalled  It could be the hunger or maybe the desire to want more  to go beyond and unravel the limitations  or maybe something like pure greed  Humans have never stopped and always keep evolving when it comes to intelligence and this is what makes them the supreme  Intelligence calls out for supremacy and so  what if there was to evolve something that opposed a challenge to the very human minds  to their capabilities while making them question their own importance among themselves  Artificial Intelligence came as a revolution  havoc when it first came to the light  The concept of making machines does work on their own  like granting machines –The Intelligence  The idea of making machines work like humans came back in the 19s  Back then people didn’t believe in such a thing as making a non-living thing work  think  and carry tasks on its own  not to mention  to actually surpass humans themselves in those skills  The facts are it did  By 1997  The greatest chess player  Garry Kasparov was defeated in a chess game by a machine and this is where exactly  a top skilled human lost to a mere machine created by another who by himself could’ve never defeated him  It was a rule of power  of betterment  of skills  and the granted supremacy  Were AI and Machines just tools  Equipment \\xa0 Something that helped an unskilled person with his mind and intelligence creates something that could do the skilled work for him with perfection and precision  Well initially it was  however  as time passed as humans got drawn to the puzzle of AI  a lot changed  Human research went deeper and deeper and as a result  the machines evolved with it  At present  AI & Machines is a growing field  As it develops and improves  it has become a part of the industrial revolution  In industries  most of the laborious work that was once taken care of by humans was now replaced by machines  Naturally  with the evolution in machines  its precision  mass productivity  quality control  time efficiencies  and all the other factors made it a better choice  A choice over humans  This led to fear  a fear of a not-so-distant future  a future where maybe machines will be so evolved that they’ll take over the need of a human employee leading to unemployment  With the population increase around the world  it became the new tech threat for the labor market  Then again… how true is it  Does AI really oppose a threat  Will adapting to technology make millions of people lose their jobs  Will it lead to mass unemployment  Will the machines really surpass humans  Will  the creation take over the creator  No matter how fearful the future with AI may seem  in reality  it is not that scary  Truth is AI is the present reality  it is the key that holds the power to unlock a whole next level of human evolution  Technology is growing  There was a time where technology was just an idea  but today that idea has been implemented  it’s working and is carried out  Nobody could stop the advancement and growth of Artificial Intelligence  it’s a wave that is already flowing and we as the present generation and the generations to come to have to learn  to learn to swim in this flow and avoid drowning  Many jobs will be replaced by machines  as AI evolves it’ll keep challenging human minds and their skills  With the present COVID 19 situation  contactless cashiers to robots delivering packages have already taken over the usual routine tasks  The jobs of Secretaries  Schedulers  and book-keeper are at risk too  Manufacturing units  agriculture  food services  retail  transportation & logistic  and hospitality are all a part of the AI-affected automation  At an estimation  it is said that around 20 million jobs  especially including manufacturing will be lost to robots  As AI  robotics  3D printing  and genetics make their way in  even the architects  medical docs  and music composers feel threatened by technology  Making us question that will AI even edge us out of our brain jobs too  Now that can be terrifying  However  as much as machines will be replacing few jobs  they’ll also be creating new jobs \\xa0 With the economic growth  innovation  and investment around 133 million jobs are said to be generated  These newly enhanced jobs are to create benefits and amplify one’s creativity  strategy  and entrepreneurial skills  So what is the catch  Well  it’s the skills  Even though AI is creating 3 times more jobs than it is destroying  it’s the skills that count  AI surged in new job opportunities  opportunities like Senior Data Scientist  Mobile Application Developer  and SEO specialist  These jobs were once never heard of but now with AI it’s born  however  to do these jobs or for its qualification  one needs high-level skills and to acquire those skills can be an expensive and time-consuming task  The future generation might be able to cope up with it but the real struggle is to be faced by the present two generations  It’s the vulnerability between the skill gap and unemployment and the youths are the ones to be crushed the most  Therefore  as the advancement of AI becomes inevitable there remains no choice but to adapt  learn  equip ourselves and grow with it  The companies have to work together to build an AI-ready workplace  They should collaborate with the government  educators  and non-profit organizations and work together to bring out policies that could help understand the technologies’ impacts faster while also providing the employees some security  The economic and business planning should be made considerable for minimizing the impact on local jobs and properly maximizing the opportunities  The employees should be provided with proper tools to carry along with the new opportunities while acquiring AI-based skills for their day-to-day work  New skills should be identified and implemented for the upskilling and continual learning initiatives  Employees will have to maximize their Robotic Quotient and learn core skills  They’ll have to adapt to new working models and understand their roles in the coming future \\xa0 Howsoever  it’s not like AI will totally take over control  even though AI proves to be a better choice  it still has its limitations at present  First  it’s expensive  secondly  manufacturing machines in bulk is not good for the environment  Machines are also very high maintenance  therefore human labor will often come cheaper and so will be considered over machines  Underdeveloped countries will find it hard to equip their people with the upskilling and reskilling required for AI workplace and so for AI to play a role in those countries  might take years  AI can also be risky and unethical  as it’s hard to figure out who to be held responsible for in cases where an AI went wrong  No matter  how advanced AI gets  there are some skills where humans will always have an upper hand i e   soft skills  Skills like teamwork  communication  creativity  and critical thinking are something that AI hasn’t been able to beat us up to yet and so the value of creativity  leadership  and emotional intelligence has increased  Although  with machines coming in between humans causing the lack of human-to-human interaction  the humans seem to fade away a little  With this era  comes the need for good leaders  Leaders who are capable of handling both machines and humans together  the ones who are organized enough to manage the skilled and the unskilled employees while providing the unskilled trainees with proper training  Leaders who hold profound soft skills and encourage teamwork while working along with machines  The ones who are patient  calm  and optimized  \\xa0 In conclusion  yes AI and machines are going to be very challenging but there’s nothing humans haven’t overcome  Adaptation and up-gradation are going to be the primary factor for survival  As we witness the onset of the 4th industrial revolution  let’s buckle up our seats and race along the highway with the essential fuels (skills) so as to not let ourselves eliminated  After all  this is an unending race with infinity as the end  all we could do is try not to run out of fuel  Try not to be outdated \\xa0 Blackcoffer Insights 29: Glady  Karunya Institute of Technology and Sciences   '"
      ]
     },
     "execution_count": 147,
     "metadata": {},
     "output_type": "execute_result"
    }
   ],
   "source": [
    "cleaned_articles[1]"
   ]
  },
  {
   "cell_type": "code",
   "execution_count": 148,
   "id": "f408b8e8",
   "metadata": {},
   "outputs": [],
   "source": [
    "# A new list called words is created and number of words present in the differet paragraphs is present in new_article list\n",
    "# is saved into the words list\n",
    "\n",
    "words = []\n",
    "for article in new_article:\n",
    "    words.append(len(word_tokenize(article)))"
   ]
  },
  {
   "cell_type": "code",
   "execution_count": 149,
   "id": "dfd9ef10",
   "metadata": {},
   "outputs": [],
   "source": [
    "# A new list called words_cleaned is used to store number of words from cleaned_articles.\n",
    "\n",
    "words_cleaned = []\n",
    "for article in cleaned_articles:\n",
    "    words_cleaned.append(len(word_tokenize(article)))"
   ]
  },
  {
   "cell_type": "code",
   "execution_count": 150,
   "id": "34b31d8a",
   "metadata": {},
   "outputs": [],
   "source": [
    "# Positive words and negative words are copied from positive-words.txt and negative-words.txt respectively and \n",
    "# stored in new lists called positive_words and negative_words respectively. Further positive score and negative\n",
    "# score are calculated by finding postive words and negative words in respectively in the cleaned_article list.\n",
    "\n",
    "positive_words = []\n",
    "negative_words = []\n",
    "#Positive score\n",
    "positiveWordsFile = 'positive-words.txt'\n",
    "for positive_word in open(positiveWordsFile, 'r').readlines():\n",
    "    positive_words.append(positive_word.rstrip())\n",
    "    \n",
    "positive_score = [0]*len(new_article)\n",
    "for i in range(len(new_article)):\n",
    "    for word in positive_words:\n",
    "        for letter in cleaned_articles[i].lower().split(' '):\n",
    "            if letter==word:\n",
    "                positive_score[i]+=1\n",
    "\n",
    "negativeWordsFile = 'negative-words.txt'\n",
    "for negative_word in open(negativeWordsFile, 'r').readlines():\n",
    "    negative_words.append(negative_word.rstrip())\n",
    "#negative Score    \n",
    "negative_score = [0]*len(new_article)\n",
    "for i in range(len(new_article)):\n",
    "    for word in negative_words:\n",
    "        for letter in cleaned_articles[i].lower().split(' '):\n",
    "            if letter==word:\n",
    "                negative_score[i]+=1"
   ]
  },
  {
   "cell_type": "code",
   "execution_count": 153,
   "id": "452740b5",
   "metadata": {},
   "outputs": [],
   "source": [
    "words_cleaned = np.array(words_cleaned)\n",
    "sentences = np.array(sentences)"
   ]
  },
  {
   "cell_type": "markdown",
   "id": "21df5635",
   "metadata": {},
   "source": []
  },
  {
   "cell_type": "code",
   "execution_count": 154,
   "id": "d82d0c3b",
   "metadata": {},
   "outputs": [],
   "source": [
    "df['POSITIVE SCORE'] = positive_score\n",
    "df['NEGATIVE SCORE'] = negative_score"
   ]
  },
  {
   "cell_type": "markdown",
   "id": "8fe6b887",
   "metadata": {},
   "source": []
  },
  {
   "cell_type": "code",
   "execution_count": 155,
   "id": "e392c8cb",
   "metadata": {},
   "outputs": [],
   "source": [
    "df['POLARITY SCORE'] = (df['POSITIVE SCORE']-df['NEGATIVE SCORE'])/ ((df['POSITIVE SCORE'] +df['NEGATIVE SCORE']))"
   ]
  },
  {
   "cell_type": "code",
   "execution_count": 156,
   "id": "1f077e9c",
   "metadata": {},
   "outputs": [],
   "source": [
    "df['SUBJECTIVITY SCORE'] = (df['POSITIVE SCORE'] + df['NEGATIVE SCORE'])/( (words_cleaned) + 0.000001)\n"
   ]
  },
  {
   "cell_type": "code",
   "execution_count": 157,
   "id": "a8a3b351",
   "metadata": {},
   "outputs": [],
   "source": [
    "df['AVG SENTENCE LENGTH'] = np.array(words)/np.array(sentences)\n"
   ]
  },
  {
   "cell_type": "code",
   "execution_count": 158,
   "id": "da6f7f8b",
   "metadata": {},
   "outputs": [],
   "source": [
    "# Complex words and syllables are counted here for calculating percentage of complex words, fog index, complex word count \n",
    "# and syllables per word.\n",
    "\n",
    "complex_words = []\n",
    "syllables_counts = []\n",
    "for article in new_article:\n",
    "    syllables_count = 0\n",
    "    d=article.split()\n",
    "    ans=0\n",
    "    for word in d:\n",
    "        count=0\n",
    "        for i in range(len(word)):\n",
    "            if(word[i]=='a' or word[i]=='e' or word[i] =='i' or word[i] == 'o' or word[i] == 'u'):\n",
    "                count+=1\n",
    "            if(i==len(word)-2 and (word[i]=='e' and word[i+1]=='d')):\n",
    "                count-=1\n",
    "            if(i==len(word)-2 and (word[i]=='e' and word[i]=='s')):\n",
    "                count-=1\n",
    "        syllables_count+=count   \n",
    "        if(count>2):\n",
    "            ans+=1\n",
    "    syllables_counts.append(syllables_count)\n",
    "    complex_words.append(ans)"
   ]
  },
  {
   "cell_type": "code",
   "execution_count": 159,
   "id": "1f41d287",
   "metadata": {},
   "outputs": [],
   "source": [
    "df['PERCENTAGE OF COMPLEX WORDS'] = np.array(complex_words)/np.array(words)"
   ]
  },
  {
   "cell_type": "code",
   "execution_count": 160,
   "id": "976fbfcc",
   "metadata": {},
   "outputs": [],
   "source": [
    "df['FOG INDEX'] = 0.4 * (df['AVG SENTENCE LENGTH'] + df['PERCENTAGE OF COMPLEX WORDS'])\n"
   ]
  },
  {
   "cell_type": "code",
   "execution_count": 161,
   "id": "0a33301c",
   "metadata": {},
   "outputs": [],
   "source": [
    "df['AVG NUMBER OF WORDS PER SENTENCES'] = df['AVG SENTENCE LENGTH']\n"
   ]
  },
  {
   "cell_type": "code",
   "execution_count": 162,
   "id": "ba5a4ae9",
   "metadata": {},
   "outputs": [],
   "source": [
    "df['COMPLEX WORD COUNT'] = complex_words\n"
   ]
  },
  {
   "cell_type": "code",
   "execution_count": 163,
   "id": "066b5779",
   "metadata": {},
   "outputs": [],
   "source": [
    "df['WORD COUNT'] = words\n"
   ]
  },
  {
   "cell_type": "code",
   "execution_count": 164,
   "id": "6c2d634c",
   "metadata": {},
   "outputs": [],
   "source": [
    "df['SYLLABLE PER WORD'] = np.array(syllables_counts)/np.array(words)\n"
   ]
  },
  {
   "cell_type": "code",
   "execution_count": 165,
   "id": "3414f3fb",
   "metadata": {},
   "outputs": [],
   "source": [
    "# Total number of characters are calculated for every paragraph and stored in list called total_characters.\n",
    "\n",
    "total_characters = []\n",
    "for article in new_article:\n",
    "    characters = 0\n",
    "    for word in article.split():\n",
    "        characters+=len(word)\n",
    "    total_characters.append(characters) "
   ]
  },
  {
   "cell_type": "code",
   "execution_count": 166,
   "id": "dc6c6636",
   "metadata": {},
   "outputs": [],
   "source": [
    "# Total number of personal noun are counted and stored in a list called personal_nouns.\n",
    "\n",
    "personal_nouns = []\n",
    "personal_noun =['I', 'we','my', 'ours','and' 'us', 'We','My', 'Ours','And' 'Us'] \n",
    "for article in new_article:\n",
    "    ans=0\n",
    "    for word in article:\n",
    "        if word in personal_noun:\n",
    "            ans+=1\n",
    "    personal_nouns.append(ans)\n"
   ]
  },
  {
   "cell_type": "code",
   "execution_count": 167,
   "id": "61ec096f",
   "metadata": {},
   "outputs": [],
   "source": [
    "df['PERSONAL PRONOUN'] = personal_nouns\n"
   ]
  },
  {
   "cell_type": "code",
   "execution_count": 168,
   "id": "5c5e31cc",
   "metadata": {},
   "outputs": [],
   "source": [
    "df['AVG WORD LENGTH'] = np.array(total_characters)/np.array(words)\n"
   ]
  },
  {
   "cell_type": "code",
   "execution_count": 169,
   "id": "493afe58",
   "metadata": {},
   "outputs": [
    {
     "data": {
      "text/html": [
       "<div>\n",
       "<style scoped>\n",
       "    .dataframe tbody tr th:only-of-type {\n",
       "        vertical-align: middle;\n",
       "    }\n",
       "\n",
       "    .dataframe tbody tr th {\n",
       "        vertical-align: top;\n",
       "    }\n",
       "\n",
       "    .dataframe thead th {\n",
       "        text-align: right;\n",
       "    }\n",
       "</style>\n",
       "<table border=\"1\" class=\"dataframe\">\n",
       "  <thead>\n",
       "    <tr style=\"text-align: right;\">\n",
       "      <th></th>\n",
       "      <th>URL_ID</th>\n",
       "      <th>URL</th>\n",
       "      <th>POSITIVE SCORE</th>\n",
       "      <th>NEGATIVE SCORE</th>\n",
       "      <th>POLARITY SCORE</th>\n",
       "      <th>SUBJECTIVITY SCORE</th>\n",
       "      <th>AVG SENTENCE LENGTH</th>\n",
       "      <th>PERCENTAGE OF COMPLEX WORDS</th>\n",
       "      <th>FOG INDEX</th>\n",
       "      <th>AVG NUMBER OF WORDS PER SENTENCES</th>\n",
       "      <th>COMPLEX WORD COUNT</th>\n",
       "      <th>WORD COUNT</th>\n",
       "      <th>SYLLABLE PER WORD</th>\n",
       "      <th>PERSONAL PRONOUN</th>\n",
       "      <th>AVG WORD LENGTH</th>\n",
       "    </tr>\n",
       "  </thead>\n",
       "  <tbody>\n",
       "    <tr>\n",
       "      <th>0</th>\n",
       "      <td>37.0</td>\n",
       "      <td>https://insights.blackcoffer.com/ai-in-healthc...</td>\n",
       "      <td>76</td>\n",
       "      <td>34</td>\n",
       "      <td>0.381818</td>\n",
       "      <td>0.060011</td>\n",
       "      <td>26.129870</td>\n",
       "      <td>0.301193</td>\n",
       "      <td>10.572425</td>\n",
       "      <td>26.129870</td>\n",
       "      <td>606</td>\n",
       "      <td>2012</td>\n",
       "      <td>1.859841</td>\n",
       "      <td>39</td>\n",
       "      <td>5.160040</td>\n",
       "    </tr>\n",
       "    <tr>\n",
       "      <th>1</th>\n",
       "      <td>38.0</td>\n",
       "      <td>https://insights.blackcoffer.com/what-if-the-c...</td>\n",
       "      <td>71</td>\n",
       "      <td>38</td>\n",
       "      <td>0.302752</td>\n",
       "      <td>0.074863</td>\n",
       "      <td>20.525000</td>\n",
       "      <td>0.195493</td>\n",
       "      <td>8.288197</td>\n",
       "      <td>20.525000</td>\n",
       "      <td>321</td>\n",
       "      <td>1642</td>\n",
       "      <td>1.542631</td>\n",
       "      <td>37</td>\n",
       "      <td>4.302680</td>\n",
       "    </tr>\n",
       "    <tr>\n",
       "      <th>2</th>\n",
       "      <td>39.0</td>\n",
       "      <td>https://insights.blackcoffer.com/what-jobs-wil...</td>\n",
       "      <td>74</td>\n",
       "      <td>38</td>\n",
       "      <td>0.321429</td>\n",
       "      <td>0.064479</td>\n",
       "      <td>22.552941</td>\n",
       "      <td>0.279082</td>\n",
       "      <td>9.132809</td>\n",
       "      <td>22.552941</td>\n",
       "      <td>535</td>\n",
       "      <td>1917</td>\n",
       "      <td>1.811163</td>\n",
       "      <td>31</td>\n",
       "      <td>4.912363</td>\n",
       "    </tr>\n",
       "    <tr>\n",
       "      <th>3</th>\n",
       "      <td>40.0</td>\n",
       "      <td>https://insights.blackcoffer.com/will-machine-...</td>\n",
       "      <td>84</td>\n",
       "      <td>28</td>\n",
       "      <td>0.500000</td>\n",
       "      <td>0.067146</td>\n",
       "      <td>19.284211</td>\n",
       "      <td>0.199782</td>\n",
       "      <td>7.793597</td>\n",
       "      <td>19.284211</td>\n",
       "      <td>366</td>\n",
       "      <td>1832</td>\n",
       "      <td>1.581332</td>\n",
       "      <td>74</td>\n",
       "      <td>4.428493</td>\n",
       "    </tr>\n",
       "    <tr>\n",
       "      <th>4</th>\n",
       "      <td>41.0</td>\n",
       "      <td>https://insights.blackcoffer.com/will-ai-repla...</td>\n",
       "      <td>69</td>\n",
       "      <td>28</td>\n",
       "      <td>0.422680</td>\n",
       "      <td>0.053151</td>\n",
       "      <td>25.050633</td>\n",
       "      <td>0.210207</td>\n",
       "      <td>10.104336</td>\n",
       "      <td>25.050633</td>\n",
       "      <td>416</td>\n",
       "      <td>1979</td>\n",
       "      <td>1.643759</td>\n",
       "      <td>36</td>\n",
       "      <td>4.612936</td>\n",
       "    </tr>\n",
       "    <tr>\n",
       "      <th>...</th>\n",
       "      <td>...</td>\n",
       "      <td>...</td>\n",
       "      <td>...</td>\n",
       "      <td>...</td>\n",
       "      <td>...</td>\n",
       "      <td>...</td>\n",
       "      <td>...</td>\n",
       "      <td>...</td>\n",
       "      <td>...</td>\n",
       "      <td>...</td>\n",
       "      <td>...</td>\n",
       "      <td>...</td>\n",
       "      <td>...</td>\n",
       "      <td>...</td>\n",
       "      <td>...</td>\n",
       "    </tr>\n",
       "    <tr>\n",
       "      <th>109</th>\n",
       "      <td>146.0</td>\n",
       "      <td>https://insights.blackcoffer.com/blockchain-fo...</td>\n",
       "      <td>28</td>\n",
       "      <td>27</td>\n",
       "      <td>0.018182</td>\n",
       "      <td>0.058761</td>\n",
       "      <td>20.673469</td>\n",
       "      <td>0.237907</td>\n",
       "      <td>8.364551</td>\n",
       "      <td>20.673469</td>\n",
       "      <td>241</td>\n",
       "      <td>1013</td>\n",
       "      <td>1.714709</td>\n",
       "      <td>15</td>\n",
       "      <td>4.950642</td>\n",
       "    </tr>\n",
       "    <tr>\n",
       "      <th>110</th>\n",
       "      <td>147.0</td>\n",
       "      <td>https://insights.blackcoffer.com/the-future-of...</td>\n",
       "      <td>46</td>\n",
       "      <td>16</td>\n",
       "      <td>0.483871</td>\n",
       "      <td>0.037148</td>\n",
       "      <td>28.451613</td>\n",
       "      <td>0.235828</td>\n",
       "      <td>11.474976</td>\n",
       "      <td>28.451613</td>\n",
       "      <td>416</td>\n",
       "      <td>1764</td>\n",
       "      <td>1.641723</td>\n",
       "      <td>42</td>\n",
       "      <td>4.667234</td>\n",
       "    </tr>\n",
       "    <tr>\n",
       "      <th>111</th>\n",
       "      <td>148.0</td>\n",
       "      <td>https://insights.blackcoffer.com/big-data-anal...</td>\n",
       "      <td>32</td>\n",
       "      <td>46</td>\n",
       "      <td>-0.179487</td>\n",
       "      <td>0.065217</td>\n",
       "      <td>19.636364</td>\n",
       "      <td>0.265432</td>\n",
       "      <td>7.960718</td>\n",
       "      <td>19.636364</td>\n",
       "      <td>344</td>\n",
       "      <td>1296</td>\n",
       "      <td>1.711420</td>\n",
       "      <td>20</td>\n",
       "      <td>4.658179</td>\n",
       "    </tr>\n",
       "    <tr>\n",
       "      <th>112</th>\n",
       "      <td>149.0</td>\n",
       "      <td>https://insights.blackcoffer.com/business-anal...</td>\n",
       "      <td>36</td>\n",
       "      <td>4</td>\n",
       "      <td>0.800000</td>\n",
       "      <td>0.054201</td>\n",
       "      <td>27.275862</td>\n",
       "      <td>0.294564</td>\n",
       "      <td>11.028170</td>\n",
       "      <td>27.275862</td>\n",
       "      <td>233</td>\n",
       "      <td>791</td>\n",
       "      <td>1.895070</td>\n",
       "      <td>8</td>\n",
       "      <td>5.260430</td>\n",
       "    </tr>\n",
       "    <tr>\n",
       "      <th>113</th>\n",
       "      <td>150.0</td>\n",
       "      <td>https://insights.blackcoffer.com/challenges-an...</td>\n",
       "      <td>47</td>\n",
       "      <td>41</td>\n",
       "      <td>0.068182</td>\n",
       "      <td>0.084050</td>\n",
       "      <td>17.424242</td>\n",
       "      <td>0.228696</td>\n",
       "      <td>7.061175</td>\n",
       "      <td>17.424242</td>\n",
       "      <td>263</td>\n",
       "      <td>1150</td>\n",
       "      <td>1.733913</td>\n",
       "      <td>8</td>\n",
       "      <td>4.673043</td>\n",
       "    </tr>\n",
       "  </tbody>\n",
       "</table>\n",
       "<p>111 rows × 15 columns</p>\n",
       "</div>"
      ],
      "text/plain": [
       "     URL_ID                                                URL  \\\n",
       "0      37.0  https://insights.blackcoffer.com/ai-in-healthc...   \n",
       "1      38.0  https://insights.blackcoffer.com/what-if-the-c...   \n",
       "2      39.0  https://insights.blackcoffer.com/what-jobs-wil...   \n",
       "3      40.0  https://insights.blackcoffer.com/will-machine-...   \n",
       "4      41.0  https://insights.blackcoffer.com/will-ai-repla...   \n",
       "..      ...                                                ...   \n",
       "109   146.0  https://insights.blackcoffer.com/blockchain-fo...   \n",
       "110   147.0  https://insights.blackcoffer.com/the-future-of...   \n",
       "111   148.0  https://insights.blackcoffer.com/big-data-anal...   \n",
       "112   149.0  https://insights.blackcoffer.com/business-anal...   \n",
       "113   150.0  https://insights.blackcoffer.com/challenges-an...   \n",
       "\n",
       "     POSITIVE SCORE  NEGATIVE SCORE  POLARITY SCORE  SUBJECTIVITY SCORE  \\\n",
       "0                76              34        0.381818            0.060011   \n",
       "1                71              38        0.302752            0.074863   \n",
       "2                74              38        0.321429            0.064479   \n",
       "3                84              28        0.500000            0.067146   \n",
       "4                69              28        0.422680            0.053151   \n",
       "..              ...             ...             ...                 ...   \n",
       "109              28              27        0.018182            0.058761   \n",
       "110              46              16        0.483871            0.037148   \n",
       "111              32              46       -0.179487            0.065217   \n",
       "112              36               4        0.800000            0.054201   \n",
       "113              47              41        0.068182            0.084050   \n",
       "\n",
       "     AVG SENTENCE LENGTH  PERCENTAGE OF COMPLEX WORDS  FOG INDEX  \\\n",
       "0              26.129870                     0.301193  10.572425   \n",
       "1              20.525000                     0.195493   8.288197   \n",
       "2              22.552941                     0.279082   9.132809   \n",
       "3              19.284211                     0.199782   7.793597   \n",
       "4              25.050633                     0.210207  10.104336   \n",
       "..                   ...                          ...        ...   \n",
       "109            20.673469                     0.237907   8.364551   \n",
       "110            28.451613                     0.235828  11.474976   \n",
       "111            19.636364                     0.265432   7.960718   \n",
       "112            27.275862                     0.294564  11.028170   \n",
       "113            17.424242                     0.228696   7.061175   \n",
       "\n",
       "     AVG NUMBER OF WORDS PER SENTENCES  COMPLEX WORD COUNT  WORD COUNT  \\\n",
       "0                            26.129870                 606        2012   \n",
       "1                            20.525000                 321        1642   \n",
       "2                            22.552941                 535        1917   \n",
       "3                            19.284211                 366        1832   \n",
       "4                            25.050633                 416        1979   \n",
       "..                                 ...                 ...         ...   \n",
       "109                          20.673469                 241        1013   \n",
       "110                          28.451613                 416        1764   \n",
       "111                          19.636364                 344        1296   \n",
       "112                          27.275862                 233         791   \n",
       "113                          17.424242                 263        1150   \n",
       "\n",
       "     SYLLABLE PER WORD  PERSONAL PRONOUN  AVG WORD LENGTH  \n",
       "0             1.859841                39         5.160040  \n",
       "1             1.542631                37         4.302680  \n",
       "2             1.811163                31         4.912363  \n",
       "3             1.581332                74         4.428493  \n",
       "4             1.643759                36         4.612936  \n",
       "..                 ...               ...              ...  \n",
       "109           1.714709                15         4.950642  \n",
       "110           1.641723                42         4.667234  \n",
       "111           1.711420                20         4.658179  \n",
       "112           1.895070                 8         5.260430  \n",
       "113           1.733913                 8         4.673043  \n",
       "\n",
       "[111 rows x 15 columns]"
      ]
     },
     "execution_count": 169,
     "metadata": {},
     "output_type": "execute_result"
    }
   ],
   "source": [
    "df\n"
   ]
  },
  {
   "cell_type": "code",
   "execution_count": 170,
   "id": "30f4cd7f",
   "metadata": {},
   "outputs": [],
   "source": [
    "df.to_csv('DIVYANSHU ASSIGNMENT SOLUTION.csv')\n"
   ]
  },
  {
   "cell_type": "code",
   "execution_count": null,
   "id": "4391209e",
   "metadata": {},
   "outputs": [],
   "source": []
  },
  {
   "cell_type": "code",
   "execution_count": null,
   "id": "e384cac1",
   "metadata": {},
   "outputs": [],
   "source": []
  }
 ],
 "metadata": {
  "kernelspec": {
   "display_name": "Python 3 (ipykernel)",
   "language": "python",
   "name": "python3"
  },
  "language_info": {
   "codemirror_mode": {
    "name": "ipython",
    "version": 3
   },
   "file_extension": ".py",
   "mimetype": "text/x-python",
   "name": "python",
   "nbconvert_exporter": "python",
   "pygments_lexer": "ipython3",
   "version": "3.10.7"
  }
 },
 "nbformat": 4,
 "nbformat_minor": 5
}
